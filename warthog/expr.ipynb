{
 "cells": [
  {
   "cell_type": "code",
   "execution_count": 18,
   "metadata": {},
   "outputs": [],
   "source": [
    "import os\n",
    "import pandas as pd\n",
    "import numpy as np\n",
    "import matplotlib.pyplot as plt\n",
    "import json\n",
    "import seaborn as sns"
   ]
  },
  {
   "cell_type": "code",
   "execution_count": 19,
   "metadata": {},
   "outputs": [],
   "source": [
    "def load_domain_info():\n",
    "    res = {}\n",
    "    domains = [\"bgmaps\", \"iron\", \"random10\", \"starcraft\", \"street\", \"dao\", \"maze512\", \"rooms\"]\n",
    "    for domain in domains:\n",
    "        maps = os.listdir(\"./maps/%s\" % domain)\n",
    "        for m in maps:\n",
    "            res[os.path.basename(m).removesuffix(\".map\")] = domain\n",
    "    return res\n",
    "\n",
    "def load_df(pth):\n",
    "    map_domain = load_domain_info()\n",
    "    mapname = pth.split(\"/\")[-1]\n",
    "    df = pd.read_csv(pth, sep=\"\\t\")\n",
    "    df[\"map\"] = mapname.removesuffix(\".log\").removesuffix(\".map\").split(\"/\")[-1]\n",
    "    df[\"domain\"] = df.apply(lambda x: map_domain.get(x[\"map\"], \"sythetic\"), axis=1)\n",
    "    df[\"scnt\"] += 1\n",
    "    return df"
   ]
  },
  {
   "cell_type": "markdown",
   "metadata": {},
   "source": [
    "# Synthetic experiment"
   ]
  },
  {
   "cell_type": "code",
   "execution_count": 33,
   "metadata": {},
   "outputs": [
    {
     "data": {
      "text/plain": [
       "count    400.0\n",
       "mean       0.0\n",
       "std        0.0\n",
       "min        0.0\n",
       "25%        0.0\n",
       "50%        0.0\n",
       "75%        0.0\n",
       "max        0.0\n",
       "dtype: float64"
      ]
     },
     "execution_count": 33,
     "metadata": {},
     "output_type": "execute_result"
    }
   ],
   "source": [
    "jps = pd.concat([load_df(\"small_output_rebuttal/jps/\"+i) for i in os.listdir(\"small_output_rebuttal/jps\")])\n",
    "jpsp = pd.concat([load_df(\"small_output_rebuttal/jps-prune/\"+i) for i in os.listdir(\"small_output_rebuttal/jps-prune\")])\n",
    "jpss = pd.concat([load_df(\"small_output_rebuttal/jps-simple/\"+i) for i in os.listdir(\"small_output_rebuttal/jps-simple\")])\n",
    "# jps2 = pd.concat([load_df(\"small_output/jps2/\"+i) for i in os.listdir(\"small_output/jps2\")])\n",
    "# jps2p = pd.concat([load_df(\"small_output/jps2-prune/\"+i) for i in os.listdir(\"small_output/jps2-prune\")])\n",
    "# df = pd.DataFrame.merge(jpsp, jps, on=[\"id\", \"map\", \"domain\"], suffixes=(\"\", \"_jps\"))\n",
    "# df = pd.DataFrame.merge(jpsp, jps, on=[\"id\", \"map\", \"domain\"], suffixes=(\"\", \"_jps\"))\n",
    "df = pd.DataFrame.merge(jpsp, jps, on=[\"id\", \"map\", \"domain\"], suffixes=(\"\", \"_jps\"))\n",
    "# sanity checking\n",
    "(df[\"cost\"] - df[\"cost_jps\"]).describe()"
   ]
  },
  {
   "cell_type": "code",
   "execution_count": 34,
   "metadata": {},
   "outputs": [],
   "source": [
    "df[\"time_r\"] = df[\"time_jps\"] / df[\"time\"]\n",
    "df[\"scnt_r\"] = df[\"scnt_jps\"] / df[\"scnt\"]\n",
    "df[\"expd_r\"] = df[\"expd_jps\"] / df[\"expd\"]\n",
    "df[\"gen_r\"] = df[\"gend_jps\"] / df[\"gend\"]"
   ]
  },
  {
   "cell_type": "code",
   "execution_count": 35,
   "metadata": {},
   "outputs": [
    {
     "name": "stderr",
     "output_type": "stream",
     "text": [
      "/home/eggeek/.local/lib/python3.10/site-packages/pandas/core/frame.py:5039: SettingWithCopyWarning: \n",
      "A value is trying to be set on a copy of a slice from a DataFrame\n",
      "\n",
      "See the caveats in the documentation: https://pandas.pydata.org/pandas-docs/stable/user_guide/indexing.html#returning-a-view-versus-a-copy\n",
      "  return super().rename(\n",
      "/tmp/ipykernel_18995/1004472487.py:3: SettingWithCopyWarning: \n",
      "A value is trying to be set on a copy of a slice from a DataFrame.\n",
      "Try using .loc[row_indexer,col_indexer] = value instead\n",
      "\n",
      "See the caveats in the documentation: https://pandas.pydata.org/pandas-docs/stable/user_guide/indexing.html#returning-a-view-versus-a-copy\n",
      "  t[\"metric\"] = \"time\"\n",
      "/tmp/ipykernel_18995/1004472487.py:7: SettingWithCopyWarning: \n",
      "A value is trying to be set on a copy of a slice from a DataFrame.\n",
      "Try using .loc[row_indexer,col_indexer] = value instead\n",
      "\n",
      "See the caveats in the documentation: https://pandas.pydata.org/pandas-docs/stable/user_guide/indexing.html#returning-a-view-versus-a-copy\n",
      "  s[\"metric\"] = \"scan\"\n",
      "/tmp/ipykernel_18995/1004472487.py:11: SettingWithCopyWarning: \n",
      "A value is trying to be set on a copy of a slice from a DataFrame.\n",
      "Try using .loc[row_indexer,col_indexer] = value instead\n",
      "\n",
      "See the caveats in the documentation: https://pandas.pydata.org/pandas-docs/stable/user_guide/indexing.html#returning-a-view-versus-a-copy\n",
      "  e[\"metric\"] = \"expd\"\n"
     ]
    },
    {
     "data": {
      "text/html": [
       "<div>\n",
       "<style scoped>\n",
       "    .dataframe tbody tr th:only-of-type {\n",
       "        vertical-align: middle;\n",
       "    }\n",
       "\n",
       "    .dataframe tbody tr th {\n",
       "        vertical-align: top;\n",
       "    }\n",
       "\n",
       "    .dataframe thead th {\n",
       "        text-align: right;\n",
       "    }\n",
       "</style>\n",
       "<table border=\"1\" class=\"dataframe\">\n",
       "  <thead>\n",
       "    <tr style=\"text-align: right;\">\n",
       "      <th></th>\n",
       "      <th>map</th>\n",
       "      <th>speed up</th>\n",
       "      <th>metric</th>\n",
       "    </tr>\n",
       "  </thead>\n",
       "  <tbody>\n",
       "    <tr>\n",
       "      <th>0</th>\n",
       "      <td>square-random-512</td>\n",
       "      <td>6.315990</td>\n",
       "      <td>time</td>\n",
       "    </tr>\n",
       "    <tr>\n",
       "      <th>1</th>\n",
       "      <td>square-random-512</td>\n",
       "      <td>5.051567</td>\n",
       "      <td>time</td>\n",
       "    </tr>\n",
       "    <tr>\n",
       "      <th>2</th>\n",
       "      <td>square-random-512</td>\n",
       "      <td>4.609219</td>\n",
       "      <td>time</td>\n",
       "    </tr>\n",
       "    <tr>\n",
       "      <th>3</th>\n",
       "      <td>square-random-512</td>\n",
       "      <td>6.191264</td>\n",
       "      <td>time</td>\n",
       "    </tr>\n",
       "    <tr>\n",
       "      <th>4</th>\n",
       "      <td>square-random-512</td>\n",
       "      <td>22.099180</td>\n",
       "      <td>time</td>\n",
       "    </tr>\n",
       "  </tbody>\n",
       "</table>\n",
       "</div>"
      ],
      "text/plain": [
       "                 map   speed up metric\n",
       "0  square-random-512   6.315990   time\n",
       "1  square-random-512   5.051567   time\n",
       "2  square-random-512   4.609219   time\n",
       "3  square-random-512   6.191264   time\n",
       "4  square-random-512  22.099180   time"
      ]
     },
     "execution_count": 35,
     "metadata": {},
     "output_type": "execute_result"
    }
   ],
   "source": [
    "t = df[[\"map\", \"time_r\"]]\n",
    "t.rename(columns={\"time_r\": \"speed up\"}, inplace=True)\n",
    "t[\"metric\"] = \"time\"\n",
    "\n",
    "s = df[[\"map\", \"scnt_r\"]]\n",
    "s.rename(columns={\"scnt_r\": \"speed up\"}, inplace=True)\n",
    "s[\"metric\"] = \"scan\"\n",
    "\n",
    "e = df[[\"map\", \"expd_r\"]]\n",
    "e.rename(columns={\"expd_r\": \"speed up\"}, inplace=True)\n",
    "e[\"metric\"] = \"expd\"\n",
    "\n",
    "tot = pd.concat([t,s,e])\n",
    "tot.head()"
   ]
  },
  {
   "cell_type": "code",
   "execution_count": 36,
   "metadata": {},
   "outputs": [
    {
     "data": {
      "text/html": [
       "<div>\n",
       "<style scoped>\n",
       "    .dataframe tbody tr th:only-of-type {\n",
       "        vertical-align: middle;\n",
       "    }\n",
       "\n",
       "    .dataframe tbody tr th {\n",
       "        vertical-align: top;\n",
       "    }\n",
       "\n",
       "    .dataframe thead th {\n",
       "        text-align: right;\n",
       "    }\n",
       "</style>\n",
       "<table border=\"1\" class=\"dataframe\">\n",
       "  <thead>\n",
       "    <tr style=\"text-align: right;\">\n",
       "      <th></th>\n",
       "      <th>map</th>\n",
       "      <th>metric</th>\n",
       "      <th>improve factor</th>\n",
       "    </tr>\n",
       "  </thead>\n",
       "  <tbody>\n",
       "    <tr>\n",
       "      <th>0</th>\n",
       "      <td>square-random-512</td>\n",
       "      <td>time</td>\n",
       "      <td>3.656102</td>\n",
       "    </tr>\n",
       "    <tr>\n",
       "      <th>1</th>\n",
       "      <td>square-random-512</td>\n",
       "      <td>time</td>\n",
       "      <td>5.204983</td>\n",
       "    </tr>\n",
       "    <tr>\n",
       "      <th>2</th>\n",
       "      <td>square-random-512</td>\n",
       "      <td>time</td>\n",
       "      <td>5.974398</td>\n",
       "    </tr>\n",
       "    <tr>\n",
       "      <th>3</th>\n",
       "      <td>square-random-512</td>\n",
       "      <td>time</td>\n",
       "      <td>7.652842</td>\n",
       "    </tr>\n",
       "    <tr>\n",
       "      <th>4</th>\n",
       "      <td>square-random-512</td>\n",
       "      <td>time</td>\n",
       "      <td>59.136840</td>\n",
       "    </tr>\n",
       "  </tbody>\n",
       "</table>\n",
       "</div>"
      ],
      "text/plain": [
       "                 map metric  improve factor\n",
       "0  square-random-512   time        3.656102\n",
       "1  square-random-512   time        5.204983\n",
       "2  square-random-512   time        5.974398\n",
       "3  square-random-512   time        7.652842\n",
       "4  square-random-512   time       59.136840"
      ]
     },
     "execution_count": 36,
     "metadata": {},
     "output_type": "execute_result"
    }
   ],
   "source": [
    "dfs = []\n",
    "for m in tot[\"map\"].unique():\n",
    "    a = {\n",
    "        \"map\": m,\n",
    "        \"metric\": [\"time\"] * 5,\n",
    "        \"improve factor\": [float(t[t[\"map\"] == m].quantile(i)) for i in [0, 0.25, 0.5, 0.75, 1]]\n",
    "    }\n",
    "    b = {\n",
    "        \"map\": m,\n",
    "        \"metric\": [\"scan\"] * 5,\n",
    "        \"improve factor\": [float(s[s[\"map\"] == m].quantile(i)) for i in [0, 0.25, 0.5, 0.75, 1]]\n",
    "    }\n",
    "    c= {\n",
    "        \"map\": m,\n",
    "        \"metric\": [\"expd\"] * 5,\n",
    "        \"improve factor\": [float(e[e[\"map\"] == m].quantile(i)) for i in [0, 0.25, 0.5, 0.75, 1]]\n",
    "    }\n",
    "    dfs.extend([a, b, c])\n",
    "t2 = pd.concat([pd.DataFrame.from_dict(i) for i in dfs])\n",
    "t2.head()"
   ]
  },
  {
   "cell_type": "code",
   "execution_count": 37,
   "metadata": {},
   "outputs": [
    {
     "data": {
      "image/png": "[encoded data removed]",
      "text/plain": [
       "<Figure size 576x288 with 4 Axes>"
      ]
     },
     "metadata": {
      "needs_background": "light"
     },
     "output_type": "display_data"
    }
   ],
   "source": [
    "\n",
    "# sns.boxplot(x=\"map\", y=\"var\", hue=\"type\", data=tot)\n",
    "g = sns.FacetGrid(t2, col=\"map\", height=4, aspect=.5)\n",
    "g.map(sns.boxplot, \"metric\", \"improve factor\", whis=[0, 100], order=[\"scan\", \"expd\", \"time\"])\n",
    "axes = g.axes.flatten()\n",
    "axes[0].set_title(\"square-random-512\")\n",
    "axes[1].set_title(\"maze-random-512\")\n",
    "axes[2].set_title(\"maze512-16-8\")\n",
    "axes[3].set_title(\"diag-random-512\")\n",
    "g.set(yscale=\"log\")\n",
    "plt.yticks([0.5, 1, 2, 4, 8], ['0.5', '1', '2', '4', '8'])\n",
    "g.savefig(\"./output/figs/synthetic.pdf\")"
   ]
  },
  {
   "cell_type": "code",
   "execution_count": 8,
   "metadata": {},
   "outputs": [
    {
     "data": {
      "text/html": [
       "<div>\n",
       "<style scoped>\n",
       "    .dataframe tbody tr th:only-of-type {\n",
       "        vertical-align: middle;\n",
       "    }\n",
       "\n",
       "    .dataframe tbody tr th {\n",
       "        vertical-align: top;\n",
       "    }\n",
       "\n",
       "    .dataframe thead th {\n",
       "        text-align: right;\n",
       "    }\n",
       "</style>\n",
       "<table border=\"1\" class=\"dataframe\">\n",
       "  <thead>\n",
       "    <tr style=\"text-align: right;\">\n",
       "      <th></th>\n",
       "      <th>min</th>\n",
       "      <th>25%</th>\n",
       "      <th>50%</th>\n",
       "      <th>75%</th>\n",
       "      <th>max</th>\n",
       "    </tr>\n",
       "    <tr>\n",
       "      <th>map</th>\n",
       "      <th></th>\n",
       "      <th></th>\n",
       "      <th></th>\n",
       "      <th></th>\n",
       "      <th></th>\n",
       "    </tr>\n",
       "  </thead>\n",
       "  <tbody>\n",
       "    <tr>\n",
       "      <th>diag-random-512</th>\n",
       "      <td>0.10</td>\n",
       "      <td>0.12</td>\n",
       "      <td>0.12</td>\n",
       "      <td>0.13</td>\n",
       "      <td>0.15</td>\n",
       "    </tr>\n",
       "    <tr>\n",
       "      <th>maze-random</th>\n",
       "      <td>0.50</td>\n",
       "      <td>0.63</td>\n",
       "      <td>0.64</td>\n",
       "      <td>0.67</td>\n",
       "      <td>1.02</td>\n",
       "    </tr>\n",
       "    <tr>\n",
       "      <th>maze512-16-8</th>\n",
       "      <td>0.09</td>\n",
       "      <td>0.28</td>\n",
       "      <td>0.30</td>\n",
       "      <td>0.31</td>\n",
       "      <td>0.84</td>\n",
       "    </tr>\n",
       "    <tr>\n",
       "      <th>square-random-512</th>\n",
       "      <td>0.02</td>\n",
       "      <td>0.14</td>\n",
       "      <td>0.18</td>\n",
       "      <td>0.20</td>\n",
       "      <td>0.28</td>\n",
       "    </tr>\n",
       "  </tbody>\n",
       "</table>\n",
       "</div>"
      ],
      "text/plain": [
       "                    min   25%   50%   75%   max\n",
       "map                                            \n",
       "diag-random-512    0.10  0.12  0.12  0.13  0.15\n",
       "maze-random        0.50  0.63  0.64  0.67  1.02\n",
       "maze512-16-8       0.09  0.28  0.30  0.31  0.84\n",
       "square-random-512  0.02  0.14  0.18  0.20  0.28"
      ]
     },
     "execution_count": 8,
     "metadata": {},
     "output_type": "execute_result"
    }
   ],
   "source": [
    "dft = df.groupby(\"map\")[\"time_r\"].describe().round(2).drop([\"count\", \"mean\", \"std\"], axis=1)\n",
    "dft"
   ]
  },
  {
   "cell_type": "code",
   "execution_count": 10,
   "metadata": {},
   "outputs": [
    {
     "data": {
      "text/html": [
       "<div>\n",
       "<style scoped>\n",
       "    .dataframe tbody tr th:only-of-type {\n",
       "        vertical-align: middle;\n",
       "    }\n",
       "\n",
       "    .dataframe tbody tr th {\n",
       "        vertical-align: top;\n",
       "    }\n",
       "\n",
       "    .dataframe thead th {\n",
       "        text-align: right;\n",
       "    }\n",
       "</style>\n",
       "<table border=\"1\" class=\"dataframe\">\n",
       "  <thead>\n",
       "    <tr style=\"text-align: right;\">\n",
       "      <th></th>\n",
       "      <th>min</th>\n",
       "      <th>25%</th>\n",
       "      <th>50%</th>\n",
       "      <th>75%</th>\n",
       "      <th>max</th>\n",
       "    </tr>\n",
       "    <tr>\n",
       "      <th>map</th>\n",
       "      <th></th>\n",
       "      <th></th>\n",
       "      <th></th>\n",
       "      <th></th>\n",
       "      <th></th>\n",
       "    </tr>\n",
       "  </thead>\n",
       "  <tbody>\n",
       "    <tr>\n",
       "      <th>diag-random-512</th>\n",
       "      <td>1.99</td>\n",
       "      <td>2.18</td>\n",
       "      <td>2.22</td>\n",
       "      <td>2.39</td>\n",
       "      <td>2.57</td>\n",
       "    </tr>\n",
       "    <tr>\n",
       "      <th>maze-random</th>\n",
       "      <td>0.38</td>\n",
       "      <td>3.33</td>\n",
       "      <td>3.49</td>\n",
       "      <td>4.11</td>\n",
       "      <td>4.65</td>\n",
       "    </tr>\n",
       "    <tr>\n",
       "      <th>maze512-16-8</th>\n",
       "      <td>1.04</td>\n",
       "      <td>1.19</td>\n",
       "      <td>1.24</td>\n",
       "      <td>1.28</td>\n",
       "      <td>1.89</td>\n",
       "    </tr>\n",
       "    <tr>\n",
       "      <th>square-random-512</th>\n",
       "      <td>0.22</td>\n",
       "      <td>0.70</td>\n",
       "      <td>0.87</td>\n",
       "      <td>1.05</td>\n",
       "      <td>2.19</td>\n",
       "    </tr>\n",
       "  </tbody>\n",
       "</table>\n",
       "</div>"
      ],
      "text/plain": [
       "                    min   25%   50%   75%   max\n",
       "map                                            \n",
       "diag-random-512    1.99  2.18  2.22  2.39  2.57\n",
       "maze-random        0.38  3.33  3.49  4.11  4.65\n",
       "maze512-16-8       1.04  1.19  1.24  1.28  1.89\n",
       "square-random-512  0.22  0.70  0.87  1.05  2.19"
      ]
     },
     "execution_count": 10,
     "metadata": {},
     "output_type": "execute_result"
    }
   ],
   "source": [
    "dfs = df.groupby(\"map\")[\"scnt_r\"].describe().round(2).drop([\"count\", \"mean\", \"std\"], axis=1)\n",
    "dfs"
   ]
  },
  {
   "cell_type": "code",
   "execution_count": 11,
   "metadata": {},
   "outputs": [
    {
     "data": {
      "text/html": [
       "<div>\n",
       "<style scoped>\n",
       "    .dataframe tbody tr th:only-of-type {\n",
       "        vertical-align: middle;\n",
       "    }\n",
       "\n",
       "    .dataframe tbody tr th {\n",
       "        vertical-align: top;\n",
       "    }\n",
       "\n",
       "    .dataframe thead th {\n",
       "        text-align: right;\n",
       "    }\n",
       "</style>\n",
       "<table border=\"1\" class=\"dataframe\">\n",
       "  <thead>\n",
       "    <tr style=\"text-align: right;\">\n",
       "      <th></th>\n",
       "      <th>min</th>\n",
       "      <th>25%</th>\n",
       "      <th>50%</th>\n",
       "      <th>75%</th>\n",
       "      <th>max</th>\n",
       "    </tr>\n",
       "    <tr>\n",
       "      <th>map</th>\n",
       "      <th></th>\n",
       "      <th></th>\n",
       "      <th></th>\n",
       "      <th></th>\n",
       "      <th></th>\n",
       "    </tr>\n",
       "  </thead>\n",
       "  <tbody>\n",
       "    <tr>\n",
       "      <th>diag-random-512</th>\n",
       "      <td>2.99</td>\n",
       "      <td>3.09</td>\n",
       "      <td>3.11</td>\n",
       "      <td>3.13</td>\n",
       "      <td>3.23</td>\n",
       "    </tr>\n",
       "    <tr>\n",
       "      <th>maze-random</th>\n",
       "      <td>1.00</td>\n",
       "      <td>1.59</td>\n",
       "      <td>1.64</td>\n",
       "      <td>1.67</td>\n",
       "      <td>1.75</td>\n",
       "    </tr>\n",
       "    <tr>\n",
       "      <th>maze512-16-8</th>\n",
       "      <td>1.00</td>\n",
       "      <td>1.00</td>\n",
       "      <td>1.00</td>\n",
       "      <td>1.00</td>\n",
       "      <td>1.00</td>\n",
       "    </tr>\n",
       "    <tr>\n",
       "      <th>square-random-512</th>\n",
       "      <td>1.00</td>\n",
       "      <td>1.31</td>\n",
       "      <td>1.46</td>\n",
       "      <td>1.55</td>\n",
       "      <td>2.30</td>\n",
       "    </tr>\n",
       "  </tbody>\n",
       "</table>\n",
       "</div>"
      ],
      "text/plain": [
       "                    min   25%   50%   75%   max\n",
       "map                                            \n",
       "diag-random-512    2.99  3.09  3.11  3.13  3.23\n",
       "maze-random        1.00  1.59  1.64  1.67  1.75\n",
       "maze512-16-8       1.00  1.00  1.00  1.00  1.00\n",
       "square-random-512  1.00  1.31  1.46  1.55  2.30"
      ]
     },
     "execution_count": 11,
     "metadata": {},
     "output_type": "execute_result"
    }
   ],
   "source": [
    "dfe = df.groupby(\"map\")[\"expd_r\"].describe().round(2).drop([\"count\", \"mean\", \"std\"], axis=1)\n",
    "dfe"
   ]
  },
  {
   "cell_type": "code",
   "execution_count": 45,
   "metadata": {},
   "outputs": [
    {
     "name": "stdout",
     "output_type": "stream",
     "text": [
      "time improvement\n",
      " \\begin{tabular}{lrrrrr}\n",
      "\\toprule\n",
      "{} &   min &   25\\% &   50\\% &   75\\% &   max \\\\\n",
      "map               &       &       &       &       &       \\\\\n",
      "\\midrule\n",
      "diag-random-512   &  1.34 &  2.18 &  2.24 &  2.32 &  2.60 \\\\\n",
      "maze-random       &  0.97 &  1.41 &  1.46 &  1.50 &  1.70 \\\\\n",
      "maze512-16-8      &  0.56 &  0.93 &  0.93 &  0.94 &  1.23 \\\\\n",
      "square-random-512 &  0.87 &  1.12 &  1.25 &  1.31 &  1.89 \\\\\n",
      "\\bottomrule\n",
      "\\end{tabular}\n",
      " scan improvement\n",
      " \\begin{tabular}{lrrrrr}\n",
      "\\toprule\n",
      "{} &   min &   25\\% &   50\\% &   75\\% &   max \\\\\n",
      "map               &       &       &       &       &       \\\\\n",
      "\\midrule\n",
      "diag-random-512   &  2.44 &  2.48 &  2.50 &  2.53 &  2.68 \\\\\n",
      "maze-random       &  1.00 &  1.86 &  1.95 &  1.97 &  2.11 \\\\\n",
      "maze512-16-8      &  1.00 &  1.00 &  1.00 &  1.00 &  1.00 \\\\\n",
      "square-random-512 &  1.00 &  1.12 &  1.25 &  1.37 &  2.79 \\\\\n",
      "\\bottomrule\n",
      "\\end{tabular}\n",
      " expd improvement\n",
      " \\begin{tabular}{lrrrrr}\n",
      "\\toprule\n",
      "{} &   min &   25\\% &   50\\% &   75\\% &   max \\\\\n",
      "map               &       &       &       &       &       \\\\\n",
      "\\midrule\n",
      "diag-random-512   &  2.38 &  2.42 &  2.44 &  2.45 &  2.51 \\\\\n",
      "maze-random       &  1.00 &  1.48 &  1.51 &  1.53 &  1.59 \\\\\n",
      "maze512-16-8      &  1.00 &  1.00 &  1.00 &  1.00 &  1.00 \\\\\n",
      "square-random-512 &  1.00 &  1.27 &  1.35 &  1.42 &  1.75 \\\\\n",
      "\\bottomrule\n",
      "\\end{tabular}\n",
      "\n"
     ]
    }
   ],
   "source": [
    "print(\"time improvement\\n\", dft.to_latex(), \"scan improvement\\n\", dfs.to_latex(), \"expd improvement\\n\", dfe.to_latex())"
   ]
  },
  {
   "cell_type": "markdown",
   "metadata": {},
   "source": [
    "# Domain experiment"
   ]
  },
  {
   "cell_type": "code",
   "execution_count": 9,
   "metadata": {},
   "outputs": [],
   "source": [
    "# rect = pd.concat([load_df(\"output/rect/\"+i) for i in os.listdir(\"output/rect\")])\n",
    "jps = pd.concat([load_df(\"output_rebuttal/jps/\"+i) for i in os.listdir(\"output_rebuttal/jps\")])\n",
    "jpsp = pd.concat([load_df(\"output/jps-prune/\"+i) for i in os.listdir(\"output_rebuttal/jps-prune\")])\n",
    "# jps2 = pd.concat([load_df(\"output/jps2/\"+i) for i in os.listdir(\"output/jps2\")])\n",
    "# jps2p = pd.concat([load_df(\"output/jps2-prune/\"+i) for i in os.listdir(\"output/jps2-prune\")])"
   ]
  },
  {
   "cell_type": "code",
   "execution_count": 10,
   "metadata": {},
   "outputs": [
    {
     "data": {
      "text/plain": [
       "count    178120.0\n",
       "mean          0.0\n",
       "std           0.0\n",
       "min           0.0\n",
       "25%           0.0\n",
       "50%           0.0\n",
       "75%           0.0\n",
       "max           0.0\n",
       "dtype: float64"
      ]
     },
     "execution_count": 10,
     "metadata": {},
     "output_type": "execute_result"
    }
   ],
   "source": [
    "df = pd.DataFrame.merge(jpsp, jps, on=[\"id\",\"map\", \"domain\"], suffixes=(\"\", \"_jps\"))\n",
    "# sanity checking\n",
    "(df[\"cost\"] - df[\"cost_jps\"]).describe()"
   ]
  },
  {
   "cell_type": "code",
   "execution_count": 11,
   "metadata": {},
   "outputs": [
    {
     "data": {
      "text/html": [
       "<div>\n",
       "<style scoped>\n",
       "    .dataframe tbody tr th:only-of-type {\n",
       "        vertical-align: middle;\n",
       "    }\n",
       "\n",
       "    .dataframe tbody tr th {\n",
       "        vertical-align: top;\n",
       "    }\n",
       "\n",
       "    .dataframe thead th {\n",
       "        text-align: right;\n",
       "    }\n",
       "</style>\n",
       "<table border=\"1\" class=\"dataframe\">\n",
       "  <thead>\n",
       "    <tr style=\"text-align: right;\">\n",
       "      <th></th>\n",
       "      <th>ratio_t</th>\n",
       "      <th>ratio_s</th>\n",
       "      <th>ratio_g</th>\n",
       "      <th>map</th>\n",
       "      <th>cost</th>\n",
       "      <th>expd</th>\n",
       "      <th>domain</th>\n",
       "      <th>expd_jps</th>\n",
       "      <th>scnt_jps</th>\n",
       "    </tr>\n",
       "  </thead>\n",
       "  <tbody>\n",
       "    <tr>\n",
       "      <th>0</th>\n",
       "      <td>3.600576</td>\n",
       "      <td>1.0</td>\n",
       "      <td>1.0</td>\n",
       "      <td>scene_sp_rus_01</td>\n",
       "      <td>2.4142</td>\n",
       "      <td>2</td>\n",
       "      <td>iron</td>\n",
       "      <td>2</td>\n",
       "      <td>26</td>\n",
       "    </tr>\n",
       "    <tr>\n",
       "      <th>1</th>\n",
       "      <td>3.582240</td>\n",
       "      <td>1.0</td>\n",
       "      <td>1.0</td>\n",
       "      <td>scene_sp_rus_01</td>\n",
       "      <td>3.4142</td>\n",
       "      <td>2</td>\n",
       "      <td>iron</td>\n",
       "      <td>2</td>\n",
       "      <td>14</td>\n",
       "    </tr>\n",
       "    <tr>\n",
       "      <th>2</th>\n",
       "      <td>6.095073</td>\n",
       "      <td>1.0</td>\n",
       "      <td>1.0</td>\n",
       "      <td>scene_sp_rus_01</td>\n",
       "      <td>3.4142</td>\n",
       "      <td>2</td>\n",
       "      <td>iron</td>\n",
       "      <td>2</td>\n",
       "      <td>53</td>\n",
       "    </tr>\n",
       "    <tr>\n",
       "      <th>3</th>\n",
       "      <td>19.615809</td>\n",
       "      <td>1.0</td>\n",
       "      <td>1.0</td>\n",
       "      <td>scene_sp_rus_01</td>\n",
       "      <td>3.4142</td>\n",
       "      <td>2</td>\n",
       "      <td>iron</td>\n",
       "      <td>2</td>\n",
       "      <td>25</td>\n",
       "    </tr>\n",
       "    <tr>\n",
       "      <th>4</th>\n",
       "      <td>3.920000</td>\n",
       "      <td>1.0</td>\n",
       "      <td>1.0</td>\n",
       "      <td>scene_sp_rus_01</td>\n",
       "      <td>1.4142</td>\n",
       "      <td>1</td>\n",
       "      <td>iron</td>\n",
       "      <td>1</td>\n",
       "      <td>9</td>\n",
       "    </tr>\n",
       "  </tbody>\n",
       "</table>\n",
       "</div>"
      ],
      "text/plain": [
       "     ratio_t  ratio_s  ratio_g              map    cost  expd domain  \\\n",
       "0   3.600576      1.0      1.0  scene_sp_rus_01  2.4142     2   iron   \n",
       "1   3.582240      1.0      1.0  scene_sp_rus_01  3.4142     2   iron   \n",
       "2   6.095073      1.0      1.0  scene_sp_rus_01  3.4142     2   iron   \n",
       "3  19.615809      1.0      1.0  scene_sp_rus_01  3.4142     2   iron   \n",
       "4   3.920000      1.0      1.0  scene_sp_rus_01  1.4142     1   iron   \n",
       "\n",
       "   expd_jps  scnt_jps  \n",
       "0         2        26  \n",
       "1         2        14  \n",
       "2         2        53  \n",
       "3         2        25  \n",
       "4         1         9  "
      ]
     },
     "execution_count": 11,
     "metadata": {},
     "output_type": "execute_result"
    }
   ],
   "source": [
    "df[\"ratio_t\"] = df[\"time_jps\"] / df[\"time\"]\n",
    "df[\"ratio_s\"] = df[\"scnt_jps\"] / df[\"scnt\"]\n",
    "df[\"ratio_g\"] = df[\"expd_jps\"] / df[\"expd\"]\n",
    "t = df[[\"ratio_t\", \"ratio_s\", \"ratio_g\", \"map\", \"cost\", \"expd\", \"domain\", \"expd_jps\", \"scnt_jps\"]]\n",
    "t.head()"
   ]
  },
  {
   "cell_type": "code",
   "execution_count": 12,
   "metadata": {},
   "outputs": [
    {
     "data": {
      "text/html": [
       "<div>\n",
       "<style scoped>\n",
       "    .dataframe tbody tr th:only-of-type {\n",
       "        vertical-align: middle;\n",
       "    }\n",
       "\n",
       "    .dataframe tbody tr th {\n",
       "        vertical-align: top;\n",
       "    }\n",
       "\n",
       "    .dataframe thead th {\n",
       "        text-align: right;\n",
       "    }\n",
       "</style>\n",
       "<table border=\"1\" class=\"dataframe\">\n",
       "  <thead>\n",
       "    <tr style=\"text-align: right;\">\n",
       "      <th></th>\n",
       "      <th>count</th>\n",
       "      <th>mean</th>\n",
       "      <th>std</th>\n",
       "      <th>min</th>\n",
       "      <th>25%</th>\n",
       "      <th>50%</th>\n",
       "      <th>75%</th>\n",
       "      <th>max</th>\n",
       "    </tr>\n",
       "    <tr>\n",
       "      <th>domain</th>\n",
       "      <th></th>\n",
       "      <th></th>\n",
       "      <th></th>\n",
       "      <th></th>\n",
       "      <th></th>\n",
       "      <th></th>\n",
       "      <th></th>\n",
       "      <th></th>\n",
       "    </tr>\n",
       "  </thead>\n",
       "  <tbody>\n",
       "    <tr>\n",
       "      <th>bgmaps</th>\n",
       "      <td>122600.0</td>\n",
       "      <td>47.02</td>\n",
       "      <td>52.32</td>\n",
       "      <td>0.14</td>\n",
       "      <td>12.45</td>\n",
       "      <td>27.65</td>\n",
       "      <td>61.02</td>\n",
       "      <td>506.46</td>\n",
       "    </tr>\n",
       "    <tr>\n",
       "      <th>iron</th>\n",
       "      <td>55520.0</td>\n",
       "      <td>12.56</td>\n",
       "      <td>19.50</td>\n",
       "      <td>0.27</td>\n",
       "      <td>5.52</td>\n",
       "      <td>7.30</td>\n",
       "      <td>10.78</td>\n",
       "      <td>301.15</td>\n",
       "    </tr>\n",
       "  </tbody>\n",
       "</table>\n",
       "</div>"
      ],
      "text/plain": [
       "           count   mean    std   min    25%    50%    75%     max\n",
       "domain                                                           \n",
       "bgmaps  122600.0  47.02  52.32  0.14  12.45  27.65  61.02  506.46\n",
       "iron     55520.0  12.56  19.50  0.27   5.52   7.30  10.78  301.15"
      ]
     },
     "execution_count": 12,
     "metadata": {},
     "output_type": "execute_result"
    }
   ],
   "source": [
    "t.groupby(\"domain\")[\"ratio_t\"].describe().round(2)"
   ]
  },
  {
   "cell_type": "code",
   "execution_count": 13,
   "metadata": {},
   "outputs": [
    {
     "data": {
      "text/html": [
       "<div>\n",
       "<style scoped>\n",
       "    .dataframe tbody tr th:only-of-type {\n",
       "        vertical-align: middle;\n",
       "    }\n",
       "\n",
       "    .dataframe tbody tr th {\n",
       "        vertical-align: top;\n",
       "    }\n",
       "\n",
       "    .dataframe thead th {\n",
       "        text-align: right;\n",
       "    }\n",
       "</style>\n",
       "<table border=\"1\" class=\"dataframe\">\n",
       "  <thead>\n",
       "    <tr style=\"text-align: right;\">\n",
       "      <th></th>\n",
       "      <th>count</th>\n",
       "      <th>mean</th>\n",
       "      <th>std</th>\n",
       "      <th>min</th>\n",
       "      <th>25%</th>\n",
       "      <th>50%</th>\n",
       "      <th>75%</th>\n",
       "      <th>max</th>\n",
       "    </tr>\n",
       "    <tr>\n",
       "      <th>domain</th>\n",
       "      <th></th>\n",
       "      <th></th>\n",
       "      <th></th>\n",
       "      <th></th>\n",
       "      <th></th>\n",
       "      <th></th>\n",
       "      <th></th>\n",
       "      <th></th>\n",
       "    </tr>\n",
       "  </thead>\n",
       "  <tbody>\n",
       "    <tr>\n",
       "      <th>bgmaps</th>\n",
       "      <td>122586.0</td>\n",
       "      <td>0.97</td>\n",
       "      <td>0.05</td>\n",
       "      <td>0.47</td>\n",
       "      <td>0.96</td>\n",
       "      <td>1.00</td>\n",
       "      <td>1.0</td>\n",
       "      <td>1.18</td>\n",
       "    </tr>\n",
       "    <tr>\n",
       "      <th>iron</th>\n",
       "      <td>55513.0</td>\n",
       "      <td>0.95</td>\n",
       "      <td>0.05</td>\n",
       "      <td>0.63</td>\n",
       "      <td>0.91</td>\n",
       "      <td>0.96</td>\n",
       "      <td>1.0</td>\n",
       "      <td>1.33</td>\n",
       "    </tr>\n",
       "  </tbody>\n",
       "</table>\n",
       "</div>"
      ],
      "text/plain": [
       "           count  mean   std   min   25%   50%  75%   max\n",
       "domain                                                   \n",
       "bgmaps  122586.0  0.97  0.05  0.47  0.96  1.00  1.0  1.18\n",
       "iron     55513.0  0.95  0.05  0.63  0.91  0.96  1.0  1.33"
      ]
     },
     "execution_count": 13,
     "metadata": {},
     "output_type": "execute_result"
    }
   ],
   "source": [
    "t.groupby(\"domain\")[\"ratio_g\"].describe().round(2)"
   ]
  },
  {
   "cell_type": "code",
   "execution_count": 17,
   "metadata": {},
   "outputs": [
    {
     "name": "stdout",
     "output_type": "stream",
     "text": [
      "\\begin{tabular}{lrrrrrrrr}\n",
      "\\toprule\n",
      "{} &     count &   mean &    std &   min &    25\\% &    50\\% &    75\\% &     max \\\\\n",
      "domain &           &        &        &       &        &        &        &         \\\\\n",
      "\\midrule\n",
      "bgmaps &  122600.0 &  47.02 &  52.32 &  0.14 &  12.45 &  27.65 &  61.02 &  506.46 \\\\\n",
      "iron   &   55520.0 &  12.56 &  19.50 &  0.27 &   5.52 &   7.30 &  10.78 &  301.15 \\\\\n",
      "\\bottomrule\n",
      "\\end{tabular}\n",
      "\n"
     ]
    }
   ],
   "source": [
    "print(t.groupby(\"domain\")[\"ratio_t\"].describe().round(2).to_latex())"
   ]
  },
  {
   "cell_type": "code",
   "execution_count": 16,
   "metadata": {},
   "outputs": [
    {
     "ename": "TypeError",
     "evalue": "'AxesSubplot' object is not subscriptable",
     "output_type": "error",
     "traceback": [
      "\u001b[0;31m---------------------------------------------------------------------------\u001b[0m",
      "\u001b[0;31mTypeError\u001b[0m                                 Traceback (most recent call last)",
      "\u001b[1;32m/home/eggeek/projects/warthog-jps/warthog/expr.ipynb Cell 20'\u001b[0m in \u001b[0;36m<cell line: 12>\u001b[0;34m()\u001b[0m\n\u001b[1;32m     <a href='vscode-notebook-cell:/home/eggeek/projects/warthog-jps/warthog/expr.ipynb#ch0000019?line=12'>13</a>\u001b[0m g \u001b[39m=\u001b[39m t[t[\u001b[39m\"\u001b[39m\u001b[39mdomain\u001b[39m\u001b[39m\"\u001b[39m] \u001b[39m==\u001b[39m domains[i]]\n\u001b[1;32m     <a href='vscode-notebook-cell:/home/eggeek/projects/warthog-jps/warthog/expr.ipynb#ch0000019?line=13'>14</a>\u001b[0m g \u001b[39m=\u001b[39m g[g[\u001b[39m\"\u001b[39m\u001b[39mexpd_jps\u001b[39m\u001b[39m\"\u001b[39m] \u001b[39m>\u001b[39m minexpd]\n\u001b[0;32m---> <a href='vscode-notebook-cell:/home/eggeek/projects/warthog-jps/warthog/expr.ipynb#ch0000019?line=14'>15</a>\u001b[0m axi \u001b[39m=\u001b[39m axes[i \u001b[39m/\u001b[39;49m\u001b[39m/\u001b[39;49m ncols][i \u001b[39m%\u001b[39;49m ncols]\n\u001b[1;32m     <a href='vscode-notebook-cell:/home/eggeek/projects/warthog-jps/warthog/expr.ipynb#ch0000019?line=15'>16</a>\u001b[0m g \u001b[39m=\u001b[39m sns\u001b[39m.\u001b[39mscatterplot(x\u001b[39m=\u001b[39m\u001b[39m\"\u001b[39m\u001b[39mexpd_jps\u001b[39m\u001b[39m\"\u001b[39m, y\u001b[39m=\u001b[39m\u001b[39m\"\u001b[39m\u001b[39mratio_t\u001b[39m\u001b[39m\"\u001b[39m, color\u001b[39m=\u001b[39mcolors[i], data\u001b[39m=\u001b[39mg, ax\u001b[39m=\u001b[39maxi, s\u001b[39m=\u001b[39m\u001b[39m1\u001b[39m)\n\u001b[1;32m     <a href='vscode-notebook-cell:/home/eggeek/projects/warthog-jps/warthog/expr.ipynb#ch0000019?line=17'>18</a>\u001b[0m g\u001b[39m.\u001b[39maxhline(\u001b[39m1\u001b[39m, color\u001b[39m=\u001b[39m\u001b[39m\"\u001b[39m\u001b[39mblack\u001b[39m\u001b[39m\"\u001b[39m)\n",
      "\u001b[0;31mTypeError\u001b[0m: 'AxesSubplot' object is not subscriptable"
     ]
    },
    {
     "data": {
      "image/png": "[encoded data removed]",
      "text/plain": [
       "<Figure size 504x252 with 2 Axes>"
      ]
     },
     "metadata": {
      "needs_background": "light"
     },
     "output_type": "display_data"
    }
   ],
   "source": [
    "domains = t[\"domain\"].unique()\n",
    "ndomain = len(domains)\n",
    "minexpd = 200\n",
    "mincost = 100\n",
    "nrows   = 1\n",
    "ncols   = ndomain // nrows\n",
    "fig, axes = plt.subplots(nrows=nrows, ncols=ncols, sharey=True, figsize=(3.5*ncols, 3.5*nrows))\n",
    "if ndomain == 1:\n",
    "    axes = [axes]\n",
    "colors = sns.color_palette()\n",
    "\n",
    "for i in range(ndomain):\n",
    "    g = t[t[\"domain\"] == domains[i]]\n",
    "    g = g[g[\"expd_jps\"] > minexpd]\n",
    "    axi = axes[i // ncols][i % ncols]\n",
    "    g = sns.scatterplot(x=\"expd_jps\", y=\"ratio_t\", color=colors[i], data=g, ax=axi, s=1)\n",
    "\n",
    "    g.axhline(1, color=\"black\")\n",
    "    axi.grid()\n",
    "    axi.set_yscale(\"linear\")\n",
    "    axi.set_xlabel(\"\")\n",
    "    axi.set_ylabel(\"\")\n",
    "    axi.set_title(domains[i])\n",
    "    axi.set_yticks([0, 0.25, 0.5, 0.75, 1, 1.25, 1.5, 1.75, 2])\n",
    "    axi.set_ylim([0, 2])\n",
    "\n",
    "for i in range(nrows):\n",
    "    axes[i][0].set_ylabel(\"speed up factor\")\n",
    "for i in range(ncols):\n",
    "    axes[nrows-1][i].set_xlabel(\"jps expd\")\n",
    "fig.savefig(\"./output/figs/domain_cmp.png\")"
   ]
  },
  {
   "cell_type": "code",
   "execution_count": 21,
   "metadata": {},
   "outputs": [
    {
     "data": {
      "text/html": [
       "<div>\n",
       "<style scoped>\n",
       "    .dataframe tbody tr th:only-of-type {\n",
       "        vertical-align: middle;\n",
       "    }\n",
       "\n",
       "    .dataframe tbody tr th {\n",
       "        vertical-align: top;\n",
       "    }\n",
       "\n",
       "    .dataframe thead th {\n",
       "        text-align: right;\n",
       "    }\n",
       "</style>\n",
       "<table border=\"1\" class=\"dataframe\">\n",
       "  <thead>\n",
       "    <tr style=\"text-align: right;\">\n",
       "      <th></th>\n",
       "      <th>time</th>\n",
       "      <th>time_jps</th>\n",
       "    </tr>\n",
       "    <tr>\n",
       "      <th>domain</th>\n",
       "      <th></th>\n",
       "      <th></th>\n",
       "    </tr>\n",
       "  </thead>\n",
       "  <tbody>\n",
       "    <tr>\n",
       "      <th>bgmaps</th>\n",
       "      <td>3.32</td>\n",
       "      <td>3.20</td>\n",
       "    </tr>\n",
       "    <tr>\n",
       "      <th>dao</th>\n",
       "      <td>13.20</td>\n",
       "      <td>14.63</td>\n",
       "    </tr>\n",
       "    <tr>\n",
       "      <th>iron</th>\n",
       "      <td>6.83</td>\n",
       "      <td>7.07</td>\n",
       "    </tr>\n",
       "    <tr>\n",
       "      <th>maze512</th>\n",
       "      <td>722.54</td>\n",
       "      <td>684.96</td>\n",
       "    </tr>\n",
       "    <tr>\n",
       "      <th>random10</th>\n",
       "      <td>14.62</td>\n",
       "      <td>14.91</td>\n",
       "    </tr>\n",
       "    <tr>\n",
       "      <th>rooms</th>\n",
       "      <td>27.96</td>\n",
       "      <td>25.81</td>\n",
       "    </tr>\n",
       "    <tr>\n",
       "      <th>starcraft</th>\n",
       "      <td>33.80</td>\n",
       "      <td>34.73</td>\n",
       "    </tr>\n",
       "    <tr>\n",
       "      <th>street</th>\n",
       "      <td>15.32</td>\n",
       "      <td>14.92</td>\n",
       "    </tr>\n",
       "  </tbody>\n",
       "</table>\n",
       "</div>"
      ],
      "text/plain": [
       "             time  time_jps\n",
       "domain                     \n",
       "bgmaps       3.32      3.20\n",
       "dao         13.20     14.63\n",
       "iron         6.83      7.07\n",
       "maze512    722.54    684.96\n",
       "random10    14.62     14.91\n",
       "rooms       27.96     25.81\n",
       "starcraft   33.80     34.73\n",
       "street      15.32     14.92"
      ]
     },
     "execution_count": 21,
     "metadata": {},
     "output_type": "execute_result"
    }
   ],
   "source": [
    "z = (df.groupby(\"domain\")[[\"time\", \"time_jps\"]].sum() / 1000000).round(2)\n",
    "z"
   ]
  },
  {
   "cell_type": "code",
   "execution_count": 127,
   "metadata": {},
   "outputs": [
    {
     "name": "stdout",
     "output_type": "stream",
     "text": [
      "\\begin{tabular}{lrr}\n",
      "\\toprule\n",
      "{} &    time &  time\\_jps \\\\\n",
      "domain    &         &           \\\\\n",
      "\\midrule\n",
      "bgmaps    &    3.17 &      3.23 \\\\\n",
      "dao       &   40.13 &     47.26 \\\\\n",
      "iron      &    6.31 &      7.21 \\\\\n",
      "maze512   &  691.46 &    672.37 \\\\\n",
      "random10  &   13.86 &     15.06 \\\\\n",
      "rooms     &   25.79 &     25.68 \\\\\n",
      "starcraft &   31.30 &     34.66 \\\\\n",
      "street    &   14.38 &     15.12 \\\\\n",
      "\\bottomrule\n",
      "\\end{tabular}\n",
      "\n"
     ]
    }
   ],
   "source": [
    "print(z.to_latex())"
   ]
  },
  {
   "cell_type": "markdown",
   "metadata": {},
   "source": [
    "# Best and Worst of each Domain"
   ]
  },
  {
   "cell_type": "code",
   "execution_count": 67,
   "metadata": {},
   "outputs": [],
   "source": [
    "df[\"time_r\"] = df[\"time_jps\"] / df[\"time\"]\n",
    "df[\"scnt_r\"] = df[\"scnt_jps\"] / df[\"scnt\"]\n",
    "df[\"expd_r\"] = df[\"expd_jps\"] / df[\"expd\"]"
   ]
  },
  {
   "cell_type": "code",
   "execution_count": 70,
   "metadata": {},
   "outputs": [],
   "source": [
    "dfm= df.groupby([\"map\", \"domain\"]).median().reset_index()\n",
    "metric = \"scnt_r\"\n",
    "\n",
    "idx = dfm.groupby([\"domain\"])[metric].transform(max) == dfm[metric]\n",
    "dmax = dfm[idx]\n",
    "\n",
    "idx = dfm.groupby([\"domain\"])[metric].transform(min) == dfm[metric]\n",
    "dmin = dfm[idx]"
   ]
  },
  {
   "cell_type": "code",
   "execution_count": 23,
   "metadata": {},
   "outputs": [
    {
     "data": {
      "text/plain": [
       "Index(['id', 'alg', 'expd', 'gend', 'touched', 'time', 'cost', 'scnt', 'sfile',\n",
       "       'map', 'domain', 'alg_jps', 'expd_jps', 'gend_jps', 'touched_jps',\n",
       "       'time_jps', 'cost_jps', 'scnt_jps', 'sfile_jps', 'ratio_t', 'ratio_s',\n",
       "       'ratio_g', 'time_r', 'scnt_r', 'expd_r'],\n",
       "      dtype='object')"
      ]
     },
     "execution_count": 23,
     "metadata": {},
     "output_type": "execute_result"
    }
   ],
   "source": [
    "df.columns"
   ]
  },
  {
   "cell_type": "code",
   "execution_count": 71,
   "metadata": {},
   "outputs": [
    {
     "data": {
      "text/html": [
       "<div>\n",
       "<style scoped>\n",
       "    .dataframe tbody tr th:only-of-type {\n",
       "        vertical-align: middle;\n",
       "    }\n",
       "\n",
       "    .dataframe tbody tr th {\n",
       "        vertical-align: top;\n",
       "    }\n",
       "\n",
       "    .dataframe thead th {\n",
       "        text-align: right;\n",
       "    }\n",
       "</style>\n",
       "<table border=\"1\" class=\"dataframe\">\n",
       "  <thead>\n",
       "    <tr style=\"text-align: right;\">\n",
       "      <th></th>\n",
       "      <th>map</th>\n",
       "      <th>domain</th>\n",
       "      <th>time_r</th>\n",
       "      <th>scnt_r</th>\n",
       "      <th>expd_r</th>\n",
       "    </tr>\n",
       "  </thead>\n",
       "  <tbody>\n",
       "    <tr>\n",
       "      <th>31</th>\n",
       "      <td>8room_001</td>\n",
       "      <td>rooms</td>\n",
       "      <td>0.870329</td>\n",
       "      <td>1.492695</td>\n",
       "      <td>1.004902</td>\n",
       "    </tr>\n",
       "    <tr>\n",
       "      <th>80</th>\n",
       "      <td>AR0404SR</td>\n",
       "      <td>bgmaps</td>\n",
       "      <td>0.894088</td>\n",
       "      <td>1.414760</td>\n",
       "      <td>1.026320</td>\n",
       "    </tr>\n",
       "    <tr>\n",
       "      <th>134</th>\n",
       "      <td>Boston_0_256</td>\n",
       "      <td>street</td>\n",
       "      <td>0.802549</td>\n",
       "      <td>1.271191</td>\n",
       "      <td>1.000000</td>\n",
       "    </tr>\n",
       "    <tr>\n",
       "      <th>175</th>\n",
       "      <td>IceMountain</td>\n",
       "      <td>starcraft</td>\n",
       "      <td>1.048191</td>\n",
       "      <td>1.397845</td>\n",
       "      <td>1.015955</td>\n",
       "    </tr>\n",
       "    <tr>\n",
       "      <th>452</th>\n",
       "      <td>maze512-8-8</td>\n",
       "      <td>maze512</td>\n",
       "      <td>0.860471</td>\n",
       "      <td>1.347400</td>\n",
       "      <td>1.000000</td>\n",
       "    </tr>\n",
       "    <tr>\n",
       "      <th>464</th>\n",
       "      <td>orz203d</td>\n",
       "      <td>dao</td>\n",
       "      <td>0.922327</td>\n",
       "      <td>2.166667</td>\n",
       "      <td>1.000000</td>\n",
       "    </tr>\n",
       "    <tr>\n",
       "      <th>494</th>\n",
       "      <td>random512-10-1</td>\n",
       "      <td>random10</td>\n",
       "      <td>1.058688</td>\n",
       "      <td>2.111705</td>\n",
       "      <td>1.022246</td>\n",
       "    </tr>\n",
       "    <tr>\n",
       "      <th>529</th>\n",
       "      <td>scene_sp_rus_03</td>\n",
       "      <td>iron</td>\n",
       "      <td>0.928820</td>\n",
       "      <td>1.461790</td>\n",
       "      <td>1.024000</td>\n",
       "    </tr>\n",
       "  </tbody>\n",
       "</table>\n",
       "</div>"
      ],
      "text/plain": [
       "                 map     domain    time_r    scnt_r    expd_r\n",
       "31         8room_001      rooms  0.870329  1.492695  1.004902\n",
       "80          AR0404SR     bgmaps  0.894088  1.414760  1.026320\n",
       "134     Boston_0_256     street  0.802549  1.271191  1.000000\n",
       "175      IceMountain  starcraft  1.048191  1.397845  1.015955\n",
       "452      maze512-8-8    maze512  0.860471  1.347400  1.000000\n",
       "464          orz203d        dao  0.922327  2.166667  1.000000\n",
       "494   random512-10-1   random10  1.058688  2.111705  1.022246\n",
       "529  scene_sp_rus_03       iron  0.928820  1.461790  1.024000"
      ]
     },
     "execution_count": 71,
     "metadata": {},
     "output_type": "execute_result"
    }
   ],
   "source": [
    "dmax[dmax[\"scnt_r\"] > 1][[\"map\", \"domain\", \"time_r\", \"scnt_r\", \"expd_r\"]]"
   ]
  },
  {
   "cell_type": "markdown",
   "metadata": {},
   "source": [
    "dmin[[\"map\", \"domain\", \"time_r\", \"scnt_r\", \"expd_r\"]]"
   ]
  },
  {
   "cell_type": "markdown",
   "metadata": {},
   "source": [
    "# Visualize Map"
   ]
  },
  {
   "cell_type": "code",
   "execution_count": 5,
   "metadata": {},
   "outputs": [],
   "source": [
    "from matplotlib.patches import Rectangle"
   ]
  },
  {
   "cell_type": "code",
   "execution_count": 19,
   "metadata": {},
   "outputs": [
    {
     "data": {
      "text/html": [
       "<div>\n",
       "<style scoped>\n",
       "    .dataframe tbody tr th:only-of-type {\n",
       "        vertical-align: middle;\n",
       "    }\n",
       "\n",
       "    .dataframe tbody tr th {\n",
       "        vertical-align: top;\n",
       "    }\n",
       "\n",
       "    .dataframe thead th {\n",
       "        text-align: right;\n",
       "    }\n",
       "</style>\n",
       "<table border=\"1\" class=\"dataframe\">\n",
       "  <thead>\n",
       "    <tr style=\"text-align: right;\">\n",
       "      <th></th>\n",
       "      <th>map</th>\n",
       "      <th>mapw</th>\n",
       "      <th>maph</th>\n",
       "      <th>x</th>\n",
       "      <th>y</th>\n",
       "      <th>traversable</th>\n",
       "    </tr>\n",
       "  </thead>\n",
       "  <tbody>\n",
       "    <tr>\n",
       "      <th>0</th>\n",
       "      <td>../maps/maze512/maze512-32-0.map</td>\n",
       "      <td>512</td>\n",
       "      <td>512</td>\n",
       "      <td>0</td>\n",
       "      <td>0</td>\n",
       "      <td>1</td>\n",
       "    </tr>\n",
       "    <tr>\n",
       "      <th>1</th>\n",
       "      <td>../maps/maze512/maze512-32-0.map</td>\n",
       "      <td>512</td>\n",
       "      <td>512</td>\n",
       "      <td>1</td>\n",
       "      <td>0</td>\n",
       "      <td>1</td>\n",
       "    </tr>\n",
       "    <tr>\n",
       "      <th>2</th>\n",
       "      <td>../maps/maze512/maze512-32-0.map</td>\n",
       "      <td>512</td>\n",
       "      <td>512</td>\n",
       "      <td>2</td>\n",
       "      <td>0</td>\n",
       "      <td>1</td>\n",
       "    </tr>\n",
       "    <tr>\n",
       "      <th>3</th>\n",
       "      <td>../maps/maze512/maze512-32-0.map</td>\n",
       "      <td>512</td>\n",
       "      <td>512</td>\n",
       "      <td>3</td>\n",
       "      <td>0</td>\n",
       "      <td>1</td>\n",
       "    </tr>\n",
       "    <tr>\n",
       "      <th>4</th>\n",
       "      <td>../maps/maze512/maze512-32-0.map</td>\n",
       "      <td>512</td>\n",
       "      <td>512</td>\n",
       "      <td>4</td>\n",
       "      <td>0</td>\n",
       "      <td>1</td>\n",
       "    </tr>\n",
       "  </tbody>\n",
       "</table>\n",
       "</div>"
      ],
      "text/plain": [
       "                                map  mapw  maph  x  y  traversable\n",
       "0  ../maps/maze512/maze512-32-0.map   512   512  0  0            1\n",
       "1  ../maps/maze512/maze512-32-0.map   512   512  1  0            1\n",
       "2  ../maps/maze512/maze512-32-0.map   512   512  2  0            1\n",
       "3  ../maps/maze512/maze512-32-0.map   512   512  3  0            1\n",
       "4  ../maps/maze512/maze512-32-0.map   512   512  4  0            1"
      ]
     },
     "execution_count": 19,
     "metadata": {},
     "output_type": "execute_result"
    }
   ],
   "source": [
    "# files = [i for i in os.listdir(\"./output\") if i.endswith(\".csv\")]\n",
    "files = [\n",
    "    \"maze512.csv\", \n",
    "    \"room.csv\",\n",
    "    \"endmaps.csv\", \n",
    "    \"GreenerPastures.csv\", \n",
    "]\n",
    "df = pd.concat([pd.read_csv(\"./output/\"+i, sep=\"\\t\") for i in files])\n",
    "df.head()"
   ]
  },
  {
   "cell_type": "code",
   "execution_count": 20,
   "metadata": {},
   "outputs": [
    {
     "data": {
      "image/png": "[encoded data removed]",
      "text/plain": [
       "<Figure size 864x216 with 4 Axes>"
      ]
     },
     "metadata": {
      "needs_background": "light"
     },
     "output_type": "display_data"
    }
   ],
   "source": [
    "maps = df[\"map\"].unique()\n",
    "nmap = len(maps)\n",
    "fig, axes = plt.subplots(nrows=1, ncols=nmap, figsize=(nmap*3, 3), sharex=False, sharey=False)\n",
    "if nmap == 1:\n",
    "    axes = [axes]\n",
    "for i, m in enumerate(maps):\n",
    "    g = df[(df[\"map\"] == m)]\n",
    "    axes[i].set_xlim(0, g[\"mapw\"].min())\n",
    "    axes[i].set_ylim(0, g[\"maph\"].min())\n",
    "    axes[i].invert_yaxis()\n",
    "    axes[i].scatter(x=g[g[\"traversable\"] == 1][\"x\"], y=g[g[\"traversable\"] == 1][\"y\"], c=\"black\", s=0.01)\n",
    "    axes[i].set_title(m.split(\"/\")[-1].removesuffix(\".map\"))\n",
    "\n",
    "plt.savefig(\"./output/figs/visual_maps.png\")"
   ]
  }
 ],
 "metadata": {
  "interpreter": {
   "hash": "767d51c1340bd893661ea55ea3124f6de3c7a262a8b4abca0554b478b1e2ff90"
  },
  "kernelspec": {
   "display_name": "Python 3.9.7 64-bit",
   "name": "python3"
  },
  "language_info": {
   "codemirror_mode": {
    "name": "ipython",
    "version": 3
   },
   "file_extension": ".py",
   "mimetype": "text/x-python",
   "name": "python",
   "nbconvert_exporter": "python",
   "pygments_lexer": "ipython3",
   "version": "3.10.4"
  },
  "orig_nbformat": 4
 },
 "nbformat": 4,
 "nbformat_minor": 2
}
